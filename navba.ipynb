{
 "cells": [
  {
   "cell_type": "code",
   "execution_count": 1,
   "id": "793cd1e7",
   "metadata": {
    "_cell_guid": "b1076dfc-b9ad-4769-8c92-a6c4dae69d19",
    "_uuid": "8f2839f25d086af736a60e9eeb907d3b93b6e0e5",
    "execution": {
     "iopub.execute_input": "2023-02-23T13:29:02.485218Z",
     "iopub.status.busy": "2023-02-23T13:29:02.484070Z",
     "iopub.status.idle": "2023-02-23T13:29:03.865574Z",
     "shell.execute_reply": "2023-02-23T13:29:03.864575Z"
    },
    "papermill": {
     "duration": 1.390547,
     "end_time": "2023-02-23T13:29:03.868143",
     "exception": false,
     "start_time": "2023-02-23T13:29:02.477596",
     "status": "completed"
    },
    "tags": []
   },
   "outputs": [],
   "source": [
    "from sklearn.feature_extraction.text import TfidfVectorizer\n",
    "from sklearn.preprocessing import FunctionTransformer\n",
    "from sklearn.model_selection import train_test_split\n",
    "from sklearn.naive_bayes import MultinomialNB, GaussianNB\n",
    "from sklearn.pipeline import Pipeline\n",
    "from nltk.stem import WordNetLemmatizer\n",
    "from nltk.tokenize import TweetTokenizer\n",
    "from nltk.corpus import stopwords\n",
    "from nltk.tag import pos_tag\n",
    "import pandas as pd\n",
    "import time"
   ]
  },
  {
   "cell_type": "code",
   "execution_count": 2,
   "id": "f04caea8",
   "metadata": {
    "execution": {
     "iopub.execute_input": "2023-02-23T13:29:03.877878Z",
     "iopub.status.busy": "2023-02-23T13:29:03.877230Z",
     "iopub.status.idle": "2023-02-23T13:29:10.740861Z",
     "shell.execute_reply": "2023-02-23T13:29:10.739907Z"
    },
    "papermill": {
     "duration": 6.870019,
     "end_time": "2023-02-23T13:29:10.743560",
     "exception": false,
     "start_time": "2023-02-23T13:29:03.873541",
     "status": "completed"
    },
    "tags": []
   },
   "outputs": [
    {
     "data": {
      "text/html": [
       "<div>\n",
       "<style scoped>\n",
       "    .dataframe tbody tr th:only-of-type {\n",
       "        vertical-align: middle;\n",
       "    }\n",
       "\n",
       "    .dataframe tbody tr th {\n",
       "        vertical-align: top;\n",
       "    }\n",
       "\n",
       "    .dataframe thead th {\n",
       "        text-align: right;\n",
       "    }\n",
       "</style>\n",
       "<table border=\"1\" class=\"dataframe\">\n",
       "  <thead>\n",
       "    <tr style=\"text-align: right;\">\n",
       "      <th></th>\n",
       "      <th>label</th>\n",
       "      <th>text</th>\n",
       "    </tr>\n",
       "  </thead>\n",
       "  <tbody>\n",
       "    <tr>\n",
       "      <th>0</th>\n",
       "      <td>0</td>\n",
       "      <td>is upset that he can't update his Facebook by ...</td>\n",
       "    </tr>\n",
       "    <tr>\n",
       "      <th>1</th>\n",
       "      <td>0</td>\n",
       "      <td>@Kenichan I dived many times for the ball. Man...</td>\n",
       "    </tr>\n",
       "    <tr>\n",
       "      <th>2</th>\n",
       "      <td>0</td>\n",
       "      <td>my whole body feels itchy and like its on fire</td>\n",
       "    </tr>\n",
       "    <tr>\n",
       "      <th>3</th>\n",
       "      <td>0</td>\n",
       "      <td>@nationwideclass no, it's not behaving at all....</td>\n",
       "    </tr>\n",
       "    <tr>\n",
       "      <th>4</th>\n",
       "      <td>0</td>\n",
       "      <td>@Kwesidei not the whole crew</td>\n",
       "    </tr>\n",
       "  </tbody>\n",
       "</table>\n",
       "</div>"
      ],
      "text/plain": [
       "   label                                               text\n",
       "0      0  is upset that he can't update his Facebook by ...\n",
       "1      0  @Kenichan I dived many times for the ball. Man...\n",
       "2      0    my whole body feels itchy and like its on fire \n",
       "3      0  @nationwideclass no, it's not behaving at all....\n",
       "4      0                      @Kwesidei not the whole crew "
      ]
     },
     "execution_count": 2,
     "metadata": {},
     "output_type": "execute_result"
    }
   ],
   "source": [
    "df=pd.read_csv('/kaggle/input/sentiment140/training.1600000.processed.noemoticon.csv', encoding='latin-1')\n",
    "df.drop(df.columns[[1,2,3,4,4]], axis=1,inplace=True)\n",
    "df = df.set_axis(['label', 'text'], axis=1, inplace=False)\n",
    "df.head()"
   ]
  },
  {
   "cell_type": "code",
   "execution_count": 3,
   "id": "3ca538d4",
   "metadata": {
    "execution": {
     "iopub.execute_input": "2023-02-23T13:29:10.751263Z",
     "iopub.status.busy": "2023-02-23T13:29:10.750124Z",
     "iopub.status.idle": "2023-02-23T13:29:10.757641Z",
     "shell.execute_reply": "2023-02-23T13:29:10.756747Z"
    },
    "papermill": {
     "duration": 0.013184,
     "end_time": "2023-02-23T13:29:10.759618",
     "exception": false,
     "start_time": "2023-02-23T13:29:10.746434",
     "status": "completed"
    },
    "tags": []
   },
   "outputs": [],
   "source": [
    "def data_cleaning(text_list): \n",
    "    stopwords_rem=False\n",
    "    stopwords_en=stopwords.words('english')\n",
    "    lemmatizer=WordNetLemmatizer()\n",
    "    tokenizer=TweetTokenizer()\n",
    "    tokens_list=[]\n",
    "    for each_text in text_list: \n",
    "        lemmatized_tokens=[]\n",
    "        tokens=tokenizer.tokenize(each_text.lower())\n",
    "        pos_tags=pos_tag(tokens)\n",
    "        for each_token, tag in pos_tags: \n",
    "            if tag.startswith('NN'): \n",
    "                pos='n'\n",
    "            elif tag.startswith('VB'): \n",
    "                pos='v'\n",
    "            else: \n",
    "                pos='a'\n",
    "            lemmatized_token=lemmatizer.lemmatize(each_token, pos)\n",
    "            if stopwords_rem: # False \n",
    "                if lemmatized_token not in stopwords_en: \n",
    "                    lemmatized_tokens.append(lemmatized_token)\n",
    "            else: \n",
    "                lemmatized_tokens.append(lemmatized_token)\n",
    "        tokens_list.append(' '.join(lemmatized_tokens))\n",
    "    return tokens_list"
   ]
  },
  {
   "cell_type": "code",
   "execution_count": 4,
   "id": "87ebf688",
   "metadata": {
    "execution": {
     "iopub.execute_input": "2023-02-23T13:29:10.767398Z",
     "iopub.status.busy": "2023-02-23T13:29:10.765969Z",
     "iopub.status.idle": "2023-02-23T13:29:12.505060Z",
     "shell.execute_reply": "2023-02-23T13:29:12.504085Z"
    },
    "papermill": {
     "duration": 1.744756,
     "end_time": "2023-02-23T13:29:12.507084",
     "exception": false,
     "start_time": "2023-02-23T13:29:10.762328",
     "status": "completed"
    },
    "tags": []
   },
   "outputs": [
    {
     "data": {
      "text/html": [
       "<div>\n",
       "<style scoped>\n",
       "    .dataframe tbody tr th:only-of-type {\n",
       "        vertical-align: middle;\n",
       "    }\n",
       "\n",
       "    .dataframe tbody tr th {\n",
       "        vertical-align: top;\n",
       "    }\n",
       "\n",
       "    .dataframe thead th {\n",
       "        text-align: right;\n",
       "    }\n",
       "</style>\n",
       "<table border=\"1\" class=\"dataframe\">\n",
       "  <thead>\n",
       "    <tr style=\"text-align: right;\">\n",
       "      <th></th>\n",
       "      <th>bad</th>\n",
       "      <th>bad day</th>\n",
       "      <th>be</th>\n",
       "      <th>be bad</th>\n",
       "      <th>be good</th>\n",
       "      <th>be ok</th>\n",
       "      <th>day</th>\n",
       "      <th>good</th>\n",
       "      <th>good day</th>\n",
       "      <th>ok</th>\n",
       "      <th>today</th>\n",
       "      <th>today be</th>\n",
       "      <th>text</th>\n",
       "    </tr>\n",
       "  </thead>\n",
       "  <tbody>\n",
       "    <tr>\n",
       "      <th>0</th>\n",
       "      <td>0.000000</td>\n",
       "      <td>0.000000</td>\n",
       "      <td>0.274634</td>\n",
       "      <td>0.000000</td>\n",
       "      <td>0.464997</td>\n",
       "      <td>0.000000</td>\n",
       "      <td>0.353642</td>\n",
       "      <td>0.464997</td>\n",
       "      <td>0.464997</td>\n",
       "      <td>0.000000</td>\n",
       "      <td>0.274634</td>\n",
       "      <td>0.274634</td>\n",
       "      <td>Today is a good day</td>\n",
       "    </tr>\n",
       "    <tr>\n",
       "      <th>1</th>\n",
       "      <td>0.464997</td>\n",
       "      <td>0.464997</td>\n",
       "      <td>0.274634</td>\n",
       "      <td>0.464997</td>\n",
       "      <td>0.000000</td>\n",
       "      <td>0.000000</td>\n",
       "      <td>0.353642</td>\n",
       "      <td>0.000000</td>\n",
       "      <td>0.000000</td>\n",
       "      <td>0.000000</td>\n",
       "      <td>0.274634</td>\n",
       "      <td>0.274634</td>\n",
       "      <td>Today is a bad day</td>\n",
       "    </tr>\n",
       "    <tr>\n",
       "      <th>2</th>\n",
       "      <td>0.000000</td>\n",
       "      <td>0.000000</td>\n",
       "      <td>0.338381</td>\n",
       "      <td>0.000000</td>\n",
       "      <td>0.000000</td>\n",
       "      <td>0.572929</td>\n",
       "      <td>0.000000</td>\n",
       "      <td>0.000000</td>\n",
       "      <td>0.000000</td>\n",
       "      <td>0.572929</td>\n",
       "      <td>0.338381</td>\n",
       "      <td>0.338381</td>\n",
       "      <td>Today is ok</td>\n",
       "    </tr>\n",
       "  </tbody>\n",
       "</table>\n",
       "</div>"
      ],
      "text/plain": [
       "        bad   bad day        be    be bad   be good     be ok       day  \\\n",
       "0  0.000000  0.000000  0.274634  0.000000  0.464997  0.000000  0.353642   \n",
       "1  0.464997  0.464997  0.274634  0.464997  0.000000  0.000000  0.353642   \n",
       "2  0.000000  0.000000  0.338381  0.000000  0.000000  0.572929  0.000000   \n",
       "\n",
       "       good  good day        ok     today  today be                 text  \n",
       "0  0.464997  0.464997  0.000000  0.274634  0.274634  Today is a good day  \n",
       "1  0.000000  0.000000  0.000000  0.274634  0.274634   Today is a bad day  \n",
       "2  0.000000  0.000000  0.572929  0.338381  0.338381          Today is ok  "
      ]
     },
     "execution_count": 4,
     "metadata": {},
     "output_type": "execute_result"
    }
   ],
   "source": [
    "demo_text=['Today is a good day', 'Today is a bad day', 'Today is ok']\n",
    "estimators=[('cleaner', FunctionTransformer(data_cleaning)), \n",
    "            ('vectorizer', TfidfVectorizer(ngram_range=(1, 2)))]\n",
    "demo_pipeline=Pipeline(estimators)\n",
    "demo_ary=demo_pipeline.fit_transform(demo_text).toarray()\n",
    "demo_vocab=[vocab for vocab, idx in sorted(demo_pipeline['vectorizer'].vocabulary_.items(), key=lambda item: item[1])]\n",
    "# demo_pipeline.fit(demo_text)\n",
    "# demo_pipeline.transform(demo_text)\n",
    "demo_df=pd.DataFrame(demo_ary, columns=demo_vocab)\n",
    "demo_df['text']=demo_text\n",
    "demo_df"
   ]
  },
  {
   "cell_type": "code",
   "execution_count": 5,
   "id": "11a87460",
   "metadata": {
    "execution": {
     "iopub.execute_input": "2023-02-23T13:29:12.514111Z",
     "iopub.status.busy": "2023-02-23T13:29:12.513802Z",
     "iopub.status.idle": "2023-02-23T13:29:12.818867Z",
     "shell.execute_reply": "2023-02-23T13:29:12.817820Z"
    },
    "papermill": {
     "duration": 0.311407,
     "end_time": "2023-02-23T13:29:12.821475",
     "exception": false,
     "start_time": "2023-02-23T13:29:12.510068",
     "status": "completed"
    },
    "tags": []
   },
   "outputs": [],
   "source": [
    "X=df['text']\n",
    "y=df['label']\n",
    "X_train, X_test, y_train, y_test=train_test_split(X, y, train_size=.9)"
   ]
  },
  {
   "cell_type": "code",
   "execution_count": 6,
   "id": "b4714194",
   "metadata": {
    "execution": {
     "iopub.execute_input": "2023-02-23T13:29:12.830237Z",
     "iopub.status.busy": "2023-02-23T13:29:12.828622Z",
     "iopub.status.idle": "2023-02-23T13:29:12.833849Z",
     "shell.execute_reply": "2023-02-23T13:29:12.832982Z"
    },
    "papermill": {
     "duration": 0.011372,
     "end_time": "2023-02-23T13:29:12.835969",
     "exception": false,
     "start_time": "2023-02-23T13:29:12.824597",
     "status": "completed"
    },
    "tags": []
   },
   "outputs": [],
   "source": [
    "# train_set=int(len(X)*0.9)\n",
    "# X_train=X[:train_set]\n",
    "# y_train=y[:train_set]\n",
    "# X_test=X[train_set:]\n",
    "# y_test=y[train_set:]"
   ]
  },
  {
   "cell_type": "code",
   "execution_count": 7,
   "id": "badb12f5",
   "metadata": {
    "execution": {
     "iopub.execute_input": "2023-02-23T13:29:12.843154Z",
     "iopub.status.busy": "2023-02-23T13:29:12.842851Z",
     "iopub.status.idle": "2023-02-23T13:53:46.028385Z",
     "shell.execute_reply": "2023-02-23T13:53:46.027302Z"
    },
    "papermill": {
     "duration": 1473.192115,
     "end_time": "2023-02-23T13:53:46.030997",
     "exception": false,
     "start_time": "2023-02-23T13:29:12.838882",
     "status": "completed"
    },
    "tags": []
   },
   "outputs": [],
   "source": [
    "start_time=time.time()\n",
    "estimators=[('cleaner', FunctionTransformer(data_cleaning)), \n",
    "            ('vectorizer', TfidfVectorizer(max_features=100000, ngram_range=(1, 2)))]\n",
    "preprocessing_pipeline=Pipeline(estimators)\n",
    "X_train_transformed=preprocessing_pipeline.fit_transform(X_train)#[0:5])\n",
    "# preprocessing_pipeline.transform([':)', 'Today is a bad day'])\n",
    "# preprocessing_pipeline.transform(df['text'])#[0:5])"
   ]
  },
  {
   "cell_type": "code",
   "execution_count": 8,
   "id": "7e03fde1",
   "metadata": {
    "execution": {
     "iopub.execute_input": "2023-02-23T13:53:46.040377Z",
     "iopub.status.busy": "2023-02-23T13:53:46.038532Z",
     "iopub.status.idle": "2023-02-23T13:53:46.046295Z",
     "shell.execute_reply": "2023-02-23T13:53:46.045234Z"
    },
    "papermill": {
     "duration": 0.014543,
     "end_time": "2023-02-23T13:53:46.048896",
     "exception": false,
     "start_time": "2023-02-23T13:53:46.034353",
     "status": "completed"
    },
    "tags": []
   },
   "outputs": [
    {
     "data": {
      "text/plain": [
       "100000"
      ]
     },
     "execution_count": 8,
     "metadata": {},
     "output_type": "execute_result"
    }
   ],
   "source": [
    "len(preprocessing_pipeline['vectorizer'].vocabulary_)"
   ]
  },
  {
   "cell_type": "code",
   "execution_count": 9,
   "id": "c71b8fe8",
   "metadata": {
    "execution": {
     "iopub.execute_input": "2023-02-23T13:53:46.056261Z",
     "iopub.status.busy": "2023-02-23T13:53:46.055919Z",
     "iopub.status.idle": "2023-02-23T13:56:27.039932Z",
     "shell.execute_reply": "2023-02-23T13:56:27.038900Z"
    },
    "papermill": {
     "duration": 160.993489,
     "end_time": "2023-02-23T13:56:27.045487",
     "exception": false,
     "start_time": "2023-02-23T13:53:46.051998",
     "status": "completed"
    },
    "tags": []
   },
   "outputs": [
    {
     "name": "stdout",
     "output_type": "stream",
     "text": [
      "Time: 1473.6126630306244\n",
      "Train Score: 0.808248477950332\n",
      "Test Score: 0.79699375\n"
     ]
    }
   ],
   "source": [
    "nb=MultinomialNB()\n",
    "nb.fit(X_train_transformed, y_train)\n",
    "print(f'Time: {time.time()-start_time}')\n",
    "X_test_transformed=preprocessing_pipeline.transform(X_test)\n",
    "print(f'Train Score: {nb.score(X_train_transformed, y_train)}')\n",
    "print(f'Test Score: {nb.score(X_test_transformed, y_test)}')"
   ]
  }
 ],
 "metadata": {
  "kernelspec": {
   "display_name": "Python 3",
   "language": "python",
   "name": "python3"
  },
  "language_info": {
   "codemirror_mode": {
    "name": "ipython",
    "version": 3
   },
   "file_extension": ".py",
   "mimetype": "text/x-python",
   "name": "python",
   "nbconvert_exporter": "python",
   "pygments_lexer": "ipython3",
   "version": "3.7.12"
  },
  "papermill": {
   "default_parameters": {},
   "duration": 1653.917302,
   "end_time": "2023-02-23T13:56:28.576396",
   "environment_variables": {},
   "exception": null,
   "input_path": "__notebook__.ipynb",
   "output_path": "__notebook__.ipynb",
   "parameters": {},
   "start_time": "2023-02-23T13:28:54.659094",
   "version": "2.3.4"
  }
 },
 "nbformat": 4,
 "nbformat_minor": 5
}
