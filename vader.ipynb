{
 "cells": [
  {
   "cell_type": "code",
   "execution_count": 1,
   "id": "281f178f",
   "metadata": {
    "_cell_guid": "b1076dfc-b9ad-4769-8c92-a6c4dae69d19",
    "_uuid": "8f2839f25d086af736a60e9eeb907d3b93b6e0e5",
    "execution": {
     "iopub.execute_input": "2023-02-23T14:32:44.776221Z",
     "iopub.status.busy": "2023-02-23T14:32:44.775797Z",
     "iopub.status.idle": "2023-02-23T14:32:44.787120Z",
     "shell.execute_reply": "2023-02-23T14:32:44.786239Z"
    },
    "papermill": {
     "duration": 0.018571,
     "end_time": "2023-02-23T14:32:44.789183",
     "exception": false,
     "start_time": "2023-02-23T14:32:44.770612",
     "status": "completed"
    },
    "tags": []
   },
   "outputs": [],
   "source": [
    "import pandas as pd\n",
    "import matplotlib.pyplot as plt"
   ]
  },
  {
   "cell_type": "code",
   "execution_count": 2,
   "id": "4805970f",
   "metadata": {
    "execution": {
     "iopub.execute_input": "2023-02-23T14:32:44.798397Z",
     "iopub.status.busy": "2023-02-23T14:32:44.798152Z",
     "iopub.status.idle": "2023-02-23T14:32:51.757468Z",
     "shell.execute_reply": "2023-02-23T14:32:51.756431Z"
    },
    "papermill": {
     "duration": 6.965153,
     "end_time": "2023-02-23T14:32:51.759664",
     "exception": false,
     "start_time": "2023-02-23T14:32:44.794511",
     "status": "completed"
    },
    "tags": []
   },
   "outputs": [
    {
     "data": {
      "text/html": [
       "<div>\n",
       "<style scoped>\n",
       "    .dataframe tbody tr th:only-of-type {\n",
       "        vertical-align: middle;\n",
       "    }\n",
       "\n",
       "    .dataframe tbody tr th {\n",
       "        vertical-align: top;\n",
       "    }\n",
       "\n",
       "    .dataframe thead th {\n",
       "        text-align: right;\n",
       "    }\n",
       "</style>\n",
       "<table border=\"1\" class=\"dataframe\">\n",
       "  <thead>\n",
       "    <tr style=\"text-align: right;\">\n",
       "      <th></th>\n",
       "      <th>label</th>\n",
       "      <th>text</th>\n",
       "    </tr>\n",
       "  </thead>\n",
       "  <tbody>\n",
       "    <tr>\n",
       "      <th>0</th>\n",
       "      <td>0</td>\n",
       "      <td>is upset that he can't update his Facebook by ...</td>\n",
       "    </tr>\n",
       "    <tr>\n",
       "      <th>1</th>\n",
       "      <td>0</td>\n",
       "      <td>@Kenichan I dived many times for the ball. Man...</td>\n",
       "    </tr>\n",
       "    <tr>\n",
       "      <th>2</th>\n",
       "      <td>0</td>\n",
       "      <td>my whole body feels itchy and like its on fire</td>\n",
       "    </tr>\n",
       "    <tr>\n",
       "      <th>3</th>\n",
       "      <td>0</td>\n",
       "      <td>@nationwideclass no, it's not behaving at all....</td>\n",
       "    </tr>\n",
       "    <tr>\n",
       "      <th>4</th>\n",
       "      <td>0</td>\n",
       "      <td>@Kwesidei not the whole crew</td>\n",
       "    </tr>\n",
       "  </tbody>\n",
       "</table>\n",
       "</div>"
      ],
      "text/plain": [
       "   label                                               text\n",
       "0      0  is upset that he can't update his Facebook by ...\n",
       "1      0  @Kenichan I dived many times for the ball. Man...\n",
       "2      0    my whole body feels itchy and like its on fire \n",
       "3      0  @nationwideclass no, it's not behaving at all....\n",
       "4      0                      @Kwesidei not the whole crew "
      ]
     },
     "execution_count": 2,
     "metadata": {},
     "output_type": "execute_result"
    }
   ],
   "source": [
    "df=pd.read_csv('/kaggle/input/sentiment140/training.1600000.processed.noemoticon.csv', encoding='latin-1')\n",
    "df.drop(df.columns[[1,2,3,4,4]], axis=1,inplace=True)\n",
    "df = df.set_axis(['label', 'text'], axis=1, inplace=False)\n",
    "df['label']=df['label'].replace({4: 1})\n",
    "df.head()"
   ]
  },
  {
   "cell_type": "code",
   "execution_count": 3,
   "id": "ed593172",
   "metadata": {
    "execution": {
     "iopub.execute_input": "2023-02-23T14:32:51.767743Z",
     "iopub.status.busy": "2023-02-23T14:32:51.766918Z",
     "iopub.status.idle": "2023-02-23T14:32:52.190487Z",
     "shell.execute_reply": "2023-02-23T14:32:52.189396Z"
    },
    "papermill": {
     "duration": 0.429959,
     "end_time": "2023-02-23T14:32:52.192860",
     "exception": false,
     "start_time": "2023-02-23T14:32:51.762901",
     "status": "completed"
    },
    "tags": []
   },
   "outputs": [
    {
     "data": {
      "text/plain": [
       "<AxesSubplot:>"
      ]
     },
     "execution_count": 3,
     "metadata": {},
     "output_type": "execute_result"
    },
    {
     "data": {
      "image/png": "[encoded data removed]",
      "text/plain": [
       "<Figure size 640x480 with 1 Axes>"
      ]
     },
     "metadata": {},
     "output_type": "display_data"
    }
   ],
   "source": [
    "df['label'].hist()"
   ]
  },
  {
   "cell_type": "code",
   "execution_count": 4,
   "id": "a2ff9a7f",
   "metadata": {
    "execution": {
     "iopub.execute_input": "2023-02-23T14:32:52.205621Z",
     "iopub.status.busy": "2023-02-23T14:32:52.205242Z",
     "iopub.status.idle": "2023-02-23T14:33:04.827426Z",
     "shell.execute_reply": "2023-02-23T14:33:04.826266Z"
    },
    "papermill": {
     "duration": 12.631289,
     "end_time": "2023-02-23T14:33:04.830233",
     "exception": false,
     "start_time": "2023-02-23T14:32:52.198944",
     "status": "completed"
    },
    "tags": []
   },
   "outputs": [
    {
     "name": "stdout",
     "output_type": "stream",
     "text": [
      "/bin/bash: /opt/conda/lib/libtinfo.so.6: no version information available (required by /bin/bash)\r\n",
      "Collecting vaderSentiment\r\n",
      "  Downloading vaderSentiment-3.3.2-py2.py3-none-any.whl (125 kB)\r\n",
      "\u001b[2K     \u001b[90m━━━━━━━━━━━━━━━━━━━━━━━━━━━━━━━━━━━━━━━\u001b[0m \u001b[32m126.0/126.0 kB\u001b[0m \u001b[31m2.1 MB/s\u001b[0m eta \u001b[36m0:00:00\u001b[0m\r\n",
      "\u001b[?25hRequirement already satisfied: requests in /opt/conda/lib/python3.7/site-packages (from vaderSentiment) (2.28.1)\r\n",
      "Requirement already satisfied: charset-normalizer<3,>=2 in /opt/conda/lib/python3.7/site-packages (from requests->vaderSentiment) (2.1.1)\r\n",
      "Requirement already satisfied: idna<4,>=2.5 in /opt/conda/lib/python3.7/site-packages (from requests->vaderSentiment) (3.3)\r\n",
      "Requirement already satisfied: certifi>=2017.4.17 in /opt/conda/lib/python3.7/site-packages (from requests->vaderSentiment) (2022.12.7)\r\n",
      "Requirement already satisfied: urllib3<1.27,>=1.21.1 in /opt/conda/lib/python3.7/site-packages (from requests->vaderSentiment) (1.26.11)\r\n",
      "Installing collected packages: vaderSentiment\r\n",
      "Successfully installed vaderSentiment-3.3.2\r\n",
      "\u001b[33mWARNING: Running pip as the 'root' user can result in broken permissions and conflicting behaviour with the system package manager. It is recommended to use a virtual environment instead: https://pip.pypa.io/warnings/venv\u001b[0m\u001b[33m\r\n",
      "\u001b[0m"
     ]
    }
   ],
   "source": [
    "!pip install vaderSentiment"
   ]
  },
  {
   "cell_type": "code",
   "execution_count": 5,
   "id": "64714cec",
   "metadata": {
    "execution": {
     "iopub.execute_input": "2023-02-23T14:33:04.840006Z",
     "iopub.status.busy": "2023-02-23T14:33:04.839245Z",
     "iopub.status.idle": "2023-02-23T14:33:04.860864Z",
     "shell.execute_reply": "2023-02-23T14:33:04.859850Z"
    },
    "papermill": {
     "duration": 0.028721,
     "end_time": "2023-02-23T14:33:04.863016",
     "exception": false,
     "start_time": "2023-02-23T14:33:04.834295",
     "status": "completed"
    },
    "tags": []
   },
   "outputs": [
    {
     "data": {
      "text/plain": [
       "{'neg': 0.0, 'neu': 0.58, 'pos': 0.42, 'compound': 0.4404}"
      ]
     },
     "execution_count": 5,
     "metadata": {},
     "output_type": "execute_result"
    }
   ],
   "source": [
    "from vaderSentiment.vaderSentiment import SentimentIntensityAnalyzer\n",
    "analyzer=SentimentIntensityAnalyzer()\n",
    "analyzer.polarity_scores('Today is a good day.')"
   ]
  },
  {
   "cell_type": "code",
   "execution_count": 6,
   "id": "06b9b325",
   "metadata": {
    "execution": {
     "iopub.execute_input": "2023-02-23T14:33:04.872083Z",
     "iopub.status.busy": "2023-02-23T14:33:04.871799Z",
     "iopub.status.idle": "2023-02-23T14:33:06.731536Z",
     "shell.execute_reply": "2023-02-23T14:33:06.730490Z"
    },
    "papermill": {
     "duration": 1.867017,
     "end_time": "2023-02-23T14:33:06.734075",
     "exception": false,
     "start_time": "2023-02-23T14:33:04.867058",
     "status": "completed"
    },
    "tags": []
   },
   "outputs": [],
   "source": [
    "from sklearn.model_selection import train_test_split\n",
    "\n",
    "X=df['text']\n",
    "y=df['label']\n",
    "X_train, X_test, y_train, y_test=train_test_split(X, y, train_size=.9)"
   ]
  },
  {
   "cell_type": "code",
   "execution_count": 7,
   "id": "18f76230",
   "metadata": {
    "execution": {
     "iopub.execute_input": "2023-02-23T14:33:06.744963Z",
     "iopub.status.busy": "2023-02-23T14:33:06.743326Z",
     "iopub.status.idle": "2023-02-23T14:33:06.750321Z",
     "shell.execute_reply": "2023-02-23T14:33:06.749464Z"
    },
    "papermill": {
     "duration": 0.014144,
     "end_time": "2023-02-23T14:33:06.752355",
     "exception": false,
     "start_time": "2023-02-23T14:33:06.738211",
     "status": "completed"
    },
    "tags": []
   },
   "outputs": [],
   "source": [
    "def get_vader_score(sentence): \n",
    "    compound=analyzer.polarity_scores(sentence)['compound']\n",
    "    if compound > 0.05: \n",
    "        return 1\n",
    "    elif (compound >= -0.05) and (compound <=0.05): \n",
    "        return None\n",
    "    else: \n",
    "        return 0\n",
    "# df['vader']=df.apply(lambda x: analyzer.polarity_scores(x['text'])['compound'], axis=1)"
   ]
  },
  {
   "cell_type": "code",
   "execution_count": 8,
   "id": "e9d3eb41",
   "metadata": {
    "execution": {
     "iopub.execute_input": "2023-02-23T14:33:06.761609Z",
     "iopub.status.busy": "2023-02-23T14:33:06.761176Z",
     "iopub.status.idle": "2023-02-23T14:33:25.374180Z",
     "shell.execute_reply": "2023-02-23T14:33:25.373186Z"
    },
    "papermill": {
     "duration": 18.62082,
     "end_time": "2023-02-23T14:33:25.377303",
     "exception": false,
     "start_time": "2023-02-23T14:33:06.756483",
     "status": "completed"
    },
    "tags": []
   },
   "outputs": [],
   "source": [
    "result_df=pd.concat([X_test, y_test], axis=1)\n",
    "result_df['vader']=result_df.apply(lambda x: get_vader_score(x['text']), axis=1)"
   ]
  },
  {
   "cell_type": "code",
   "execution_count": 9,
   "id": "404b0343",
   "metadata": {
    "execution": {
     "iopub.execute_input": "2023-02-23T14:33:25.391163Z",
     "iopub.status.busy": "2023-02-23T14:33:25.390820Z",
     "iopub.status.idle": "2023-02-23T14:33:25.409741Z",
     "shell.execute_reply": "2023-02-23T14:33:25.408704Z"
    },
    "papermill": {
     "duration": 0.028325,
     "end_time": "2023-02-23T14:33:25.412396",
     "exception": false,
     "start_time": "2023-02-23T14:33:25.384071",
     "status": "completed"
    },
    "tags": []
   },
   "outputs": [
    {
     "data": {
      "text/html": [
       "<div>\n",
       "<style scoped>\n",
       "    .dataframe tbody tr th:only-of-type {\n",
       "        vertical-align: middle;\n",
       "    }\n",
       "\n",
       "    .dataframe tbody tr th {\n",
       "        vertical-align: top;\n",
       "    }\n",
       "\n",
       "    .dataframe thead th {\n",
       "        text-align: right;\n",
       "    }\n",
       "</style>\n",
       "<table border=\"1\" class=\"dataframe\">\n",
       "  <thead>\n",
       "    <tr style=\"text-align: right;\">\n",
       "      <th></th>\n",
       "      <th>text</th>\n",
       "      <th>label</th>\n",
       "      <th>vader</th>\n",
       "    </tr>\n",
       "  </thead>\n",
       "  <tbody>\n",
       "    <tr>\n",
       "      <th>1365264</th>\n",
       "      <td>@ddlovato and I loved that sentence: &amp;quot;I a...</td>\n",
       "      <td>1</td>\n",
       "      <td>1.0</td>\n",
       "    </tr>\n",
       "    <tr>\n",
       "      <th>1172048</th>\n",
       "      <td>@aliasgirl18 Pushing Daisies was fab last nigh...</td>\n",
       "      <td>1</td>\n",
       "      <td>1.0</td>\n",
       "    </tr>\n",
       "    <tr>\n",
       "      <th>670271</th>\n",
       "      <td>So. . . Worried about bear</td>\n",
       "      <td>0</td>\n",
       "      <td>0.0</td>\n",
       "    </tr>\n",
       "    <tr>\n",
       "      <th>166268</th>\n",
       "      <td>@SuperWiki i want to gooo</td>\n",
       "      <td>0</td>\n",
       "      <td>1.0</td>\n",
       "    </tr>\n",
       "    <tr>\n",
       "      <th>1088455</th>\n",
       "      <td>????WHW??http://www.handfb.com????</td>\n",
       "      <td>1</td>\n",
       "      <td>NaN</td>\n",
       "    </tr>\n",
       "    <tr>\n",
       "      <th>...</th>\n",
       "      <td>...</td>\n",
       "      <td>...</td>\n",
       "      <td>...</td>\n",
       "    </tr>\n",
       "    <tr>\n",
       "      <th>659060</th>\n",
       "      <td>i miss my long hair...</td>\n",
       "      <td>0</td>\n",
       "      <td>0.0</td>\n",
       "    </tr>\n",
       "    <tr>\n",
       "      <th>723640</th>\n",
       "      <td>@MoreLikeMelissa aw babe  dont be upset, hes a...</td>\n",
       "      <td>0</td>\n",
       "      <td>1.0</td>\n",
       "    </tr>\n",
       "    <tr>\n",
       "      <th>940425</th>\n",
       "      <td>@tommcfly Stephenie Meyers has a guide book ex...</td>\n",
       "      <td>1</td>\n",
       "      <td>1.0</td>\n",
       "    </tr>\n",
       "    <tr>\n",
       "      <th>1033455</th>\n",
       "      <td>200 push ups, 500 jumps (jump rope). Now bout ...</td>\n",
       "      <td>1</td>\n",
       "      <td>NaN</td>\n",
       "    </tr>\n",
       "    <tr>\n",
       "      <th>887454</th>\n",
       "      <td>listening to Joel Osteen speak on 'vindication...</td>\n",
       "      <td>1</td>\n",
       "      <td>0.0</td>\n",
       "    </tr>\n",
       "  </tbody>\n",
       "</table>\n",
       "<p>160000 rows × 3 columns</p>\n",
       "</div>"
      ],
      "text/plain": [
       "                                                      text  label  vader\n",
       "1365264  @ddlovato and I loved that sentence: &quot;I a...      1    1.0\n",
       "1172048  @aliasgirl18 Pushing Daisies was fab last nigh...      1    1.0\n",
       "670271                         So. . . Worried about bear       0    0.0\n",
       "166268                          @SuperWiki i want to gooo       0    1.0\n",
       "1088455                ????WHW??http://www.handfb.com????       1    NaN\n",
       "...                                                    ...    ...    ...\n",
       "659060                             i miss my long hair...       0    0.0\n",
       "723640   @MoreLikeMelissa aw babe  dont be upset, hes a...      0    1.0\n",
       "940425   @tommcfly Stephenie Meyers has a guide book ex...      1    1.0\n",
       "1033455  200 push ups, 500 jumps (jump rope). Now bout ...      1    NaN\n",
       "887454   listening to Joel Osteen speak on 'vindication...      1    0.0\n",
       "\n",
       "[160000 rows x 3 columns]"
      ]
     },
     "execution_count": 9,
     "metadata": {},
     "output_type": "execute_result"
    }
   ],
   "source": [
    "result_df"
   ]
  },
  {
   "cell_type": "code",
   "execution_count": 10,
   "id": "21375a80",
   "metadata": {
    "execution": {
     "iopub.execute_input": "2023-02-23T14:33:25.426984Z",
     "iopub.status.busy": "2023-02-23T14:33:25.426669Z",
     "iopub.status.idle": "2023-02-23T14:33:25.539478Z",
     "shell.execute_reply": "2023-02-23T14:33:25.535378Z"
    },
    "papermill": {
     "duration": 0.12434,
     "end_time": "2023-02-23T14:33:25.543772",
     "exception": false,
     "start_time": "2023-02-23T14:33:25.419432",
     "status": "completed"
    },
    "tags": []
   },
   "outputs": [
    {
     "data": {
      "text/plain": [
       "0.7172769477649724"
      ]
     },
     "execution_count": 10,
     "metadata": {},
     "output_type": "execute_result"
    }
   ],
   "source": [
    "from sklearn.metrics import accuracy_score\n",
    "accuracy_score(result_df.dropna()['label'].values, result_df.dropna()['vader'].values)"
   ]
  },
  {
   "cell_type": "code",
   "execution_count": 11,
   "id": "4ebd8d48",
   "metadata": {
    "execution": {
     "iopub.execute_input": "2023-02-23T14:33:25.556780Z",
     "iopub.status.busy": "2023-02-23T14:33:25.555649Z",
     "iopub.status.idle": "2023-02-23T14:33:25.636346Z",
     "shell.execute_reply": "2023-02-23T14:33:25.634724Z"
    },
    "papermill": {
     "duration": 0.089773,
     "end_time": "2023-02-23T14:33:25.638641",
     "exception": false,
     "start_time": "2023-02-23T14:33:25.548868",
     "status": "completed"
    },
    "tags": []
   },
   "outputs": [
    {
     "name": "stdout",
     "output_type": "stream",
     "text": [
      "Accuracy: 0.7172769477649724\n"
     ]
    }
   ],
   "source": [
    "print(f'Accuracy: {accuracy_score(result_df.dropna()[\"label\"].values, result_df.dropna()[\"vader\"].values)}')"
   ]
  }
 ],
 "metadata": {
  "kernelspec": {
   "display_name": "Python 3",
   "language": "python",
   "name": "python3"
  },
  "language_info": {
   "codemirror_mode": {
    "name": "ipython",
    "version": 3
   },
   "file_extension": ".py",
   "mimetype": "text/x-python",
   "name": "python",
   "nbconvert_exporter": "python",
   "pygments_lexer": "ipython3",
   "version": "3.7.12"
  },
  "papermill": {
   "default_parameters": {},
   "duration": 51.88825,
   "end_time": "2023-02-23T14:33:26.263598",
   "environment_variables": {},
   "exception": null,
   "input_path": "__notebook__.ipynb",
   "output_path": "__notebook__.ipynb",
   "parameters": {},
   "start_time": "2023-02-23T14:32:34.375348",
   "version": "2.3.4"
  }
 },
 "nbformat": 4,
 "nbformat_minor": 5
}
