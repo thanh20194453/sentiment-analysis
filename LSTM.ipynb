{
 "cells": [
  {
   "cell_type": "code",
   "execution_count": 1,
   "id": "d5fdb680",
   "metadata": {
    "_cell_guid": "b1076dfc-b9ad-4769-8c92-a6c4dae69d19",
    "_uuid": "8f2839f25d086af736a60e9eeb907d3b93b6e0e5",
    "execution": {
     "iopub.execute_input": "2023-02-23T02:45:10.509412Z",
     "iopub.status.busy": "2023-02-23T02:45:10.508583Z",
     "iopub.status.idle": "2023-02-23T02:45:10.520611Z",
     "shell.execute_reply": "2023-02-23T02:45:10.519762Z"
    },
    "papermill": {
     "duration": 0.02398,
     "end_time": "2023-02-23T02:45:10.522739",
     "exception": false,
     "start_time": "2023-02-23T02:45:10.498759",
     "status": "completed"
    },
    "tags": []
   },
   "outputs": [],
   "source": [
    "import pandas as pd"
   ]
  },
  {
   "cell_type": "code",
   "execution_count": 2,
   "id": "48b17f63",
   "metadata": {
    "execution": {
     "iopub.execute_input": "2023-02-23T02:45:10.533749Z",
     "iopub.status.busy": "2023-02-23T02:45:10.532918Z",
     "iopub.status.idle": "2023-02-23T02:45:17.865049Z",
     "shell.execute_reply": "2023-02-23T02:45:17.864028Z"
    },
    "papermill": {
     "duration": 7.340154,
     "end_time": "2023-02-23T02:45:17.867409",
     "exception": false,
     "start_time": "2023-02-23T02:45:10.527255",
     "status": "completed"
    },
    "tags": []
   },
   "outputs": [
    {
     "data": {
      "text/html": [
       "<div>\n",
       "<style scoped>\n",
       "    .dataframe tbody tr th:only-of-type {\n",
       "        vertical-align: middle;\n",
       "    }\n",
       "\n",
       "    .dataframe tbody tr th {\n",
       "        vertical-align: top;\n",
       "    }\n",
       "\n",
       "    .dataframe thead th {\n",
       "        text-align: right;\n",
       "    }\n",
       "</style>\n",
       "<table border=\"1\" class=\"dataframe\">\n",
       "  <thead>\n",
       "    <tr style=\"text-align: right;\">\n",
       "      <th></th>\n",
       "      <th>label</th>\n",
       "      <th>text</th>\n",
       "    </tr>\n",
       "  </thead>\n",
       "  <tbody>\n",
       "    <tr>\n",
       "      <th>0</th>\n",
       "      <td>0</td>\n",
       "      <td>is upset that he can't update his Facebook by ...</td>\n",
       "    </tr>\n",
       "    <tr>\n",
       "      <th>1</th>\n",
       "      <td>0</td>\n",
       "      <td>@Kenichan I dived many times for the ball. Man...</td>\n",
       "    </tr>\n",
       "    <tr>\n",
       "      <th>2</th>\n",
       "      <td>0</td>\n",
       "      <td>my whole body feels itchy and like its on fire</td>\n",
       "    </tr>\n",
       "    <tr>\n",
       "      <th>3</th>\n",
       "      <td>0</td>\n",
       "      <td>@nationwideclass no, it's not behaving at all....</td>\n",
       "    </tr>\n",
       "    <tr>\n",
       "      <th>4</th>\n",
       "      <td>0</td>\n",
       "      <td>@Kwesidei not the whole crew</td>\n",
       "    </tr>\n",
       "  </tbody>\n",
       "</table>\n",
       "</div>"
      ],
      "text/plain": [
       "   label                                               text\n",
       "0      0  is upset that he can't update his Facebook by ...\n",
       "1      0  @Kenichan I dived many times for the ball. Man...\n",
       "2      0    my whole body feels itchy and like its on fire \n",
       "3      0  @nationwideclass no, it's not behaving at all....\n",
       "4      0                      @Kwesidei not the whole crew "
      ]
     },
     "execution_count": 2,
     "metadata": {},
     "output_type": "execute_result"
    }
   ],
   "source": [
    "df=pd.read_csv('/kaggle/input/sentiment140/training.1600000.processed.noemoticon.csv', encoding='latin-1')\n",
    "df.drop(df.columns[[1,2,3,4,4]], axis=1,inplace=True)\n",
    "df = df.set_axis(['label', 'text'], axis=1, inplace=False)\n",
    "df['label']=df['label'].replace({4: 1})\n",
    "df.head()"
   ]
  },
  {
   "cell_type": "code",
   "execution_count": 3,
   "id": "3252d4b6",
   "metadata": {
    "execution": {
     "iopub.execute_input": "2023-02-23T02:45:17.880489Z",
     "iopub.status.busy": "2023-02-23T02:45:17.879652Z",
     "iopub.status.idle": "2023-02-23T02:45:17.902234Z",
     "shell.execute_reply": "2023-02-23T02:45:17.901158Z"
    },
    "papermill": {
     "duration": 0.03074,
     "end_time": "2023-02-23T02:45:17.904509",
     "exception": false,
     "start_time": "2023-02-23T02:45:17.873769",
     "status": "completed"
    },
    "tags": []
   },
   "outputs": [
    {
     "data": {
      "text/plain": [
       "1    800000\n",
       "0    799999\n",
       "Name: label, dtype: int64"
      ]
     },
     "execution_count": 3,
     "metadata": {},
     "output_type": "execute_result"
    }
   ],
   "source": [
    "df['label'].value_counts()"
   ]
  },
  {
   "cell_type": "code",
   "execution_count": 4,
   "id": "c043b75a",
   "metadata": {
    "execution": {
     "iopub.execute_input": "2023-02-23T02:45:17.915993Z",
     "iopub.status.busy": "2023-02-23T02:45:17.915672Z",
     "iopub.status.idle": "2023-02-23T02:45:18.288173Z",
     "shell.execute_reply": "2023-02-23T02:45:18.277466Z"
    },
    "papermill": {
     "duration": 0.382155,
     "end_time": "2023-02-23T02:45:18.291772",
     "exception": false,
     "start_time": "2023-02-23T02:45:17.909617",
     "status": "completed"
    },
    "tags": []
   },
   "outputs": [
    {
     "data": {
      "text/plain": [
       "0    400000\n",
       "1    400000\n",
       "Name: label, dtype: int64"
      ]
     },
     "execution_count": 4,
     "metadata": {},
     "output_type": "execute_result"
    }
   ],
   "source": [
    "df=pd.concat([df[df['label']==0].sample(frac=.5), df[df['label']==1].sample(frac=.5)])\n",
    "# df.to_csv('data/sample.csv', index=False)\n",
    "df['label'].value_counts()"
   ]
  },
  {
   "cell_type": "code",
   "execution_count": 5,
   "id": "12bdc19e",
   "metadata": {
    "execution": {
     "iopub.execute_input": "2023-02-23T02:45:18.331064Z",
     "iopub.status.busy": "2023-02-23T02:45:18.330049Z",
     "iopub.status.idle": "2023-02-23T02:46:34.241016Z",
     "shell.execute_reply": "2023-02-23T02:46:34.240001Z"
    },
    "papermill": {
     "duration": 75.935258,
     "end_time": "2023-02-23T02:46:34.247786",
     "exception": false,
     "start_time": "2023-02-23T02:45:18.312528",
     "status": "completed"
    },
    "tags": []
   },
   "outputs": [
    {
     "data": {
      "text/plain": [
       "(['@rubytears', \"can't\", 'dm', 'you'], 0)"
      ]
     },
     "execution_count": 5,
     "metadata": {},
     "output_type": "execute_result"
    }
   ],
   "source": [
    "from nltk.tokenize import TweetTokenizer\n",
    "tokenizer=TweetTokenizer(reduce_len=True)\n",
    "data=[]\n",
    "for text, label in zip(df['text'].values, df['label'].values): \n",
    "    data.append((tokenizer.tokenize(text.lower()), label))\n",
    "data[0]"
   ]
  },
  {
   "cell_type": "code",
   "execution_count": 6,
   "id": "f9e0da72",
   "metadata": {
    "execution": {
     "iopub.execute_input": "2023-02-23T02:46:34.259477Z",
     "iopub.status.busy": "2023-02-23T02:46:34.258682Z",
     "iopub.status.idle": "2023-02-23T02:46:37.447223Z",
     "shell.execute_reply": "2023-02-23T02:46:37.446054Z"
    },
    "papermill": {
     "duration": 3.197406,
     "end_time": "2023-02-23T02:46:37.450196",
     "exception": false,
     "start_time": "2023-02-23T02:46:34.252790",
     "status": "completed"
    },
    "tags": []
   },
   "outputs": [
    {
     "data": {
      "text/plain": [
       "(array([7.98374e+05, 1.37300e+03, 1.22000e+02, 6.10000e+01, 3.80000e+01,\n",
       "        1.80000e+01, 5.00000e+00, 3.00000e+00, 4.00000e+00, 2.00000e+00]),\n",
       " array([  1. ,  36.6,  72.2, 107.8, 143.4, 179. , 214.6, 250.2, 285.8,\n",
       "        321.4, 357. ]),\n",
       " <BarContainer object of 10 artists>)"
      ]
     },
     "execution_count": 6,
     "metadata": {},
     "output_type": "execute_result"
    },
    {
     "data": {
      "image/png": "[encoded data removed]",
      "text/plain": [
       "<Figure size 640x480 with 1 Axes>"
      ]
     },
     "metadata": {},
     "output_type": "display_data"
    }
   ],
   "source": [
    "import matplotlib.pyplot as plt\n",
    "length=[]\n",
    "for text, label in data: \n",
    "    length.append(len(text))\n",
    "plt.hist(length)"
   ]
  },
  {
   "cell_type": "code",
   "execution_count": 7,
   "id": "ea757c6f",
   "metadata": {
    "execution": {
     "iopub.execute_input": "2023-02-23T02:46:37.463625Z",
     "iopub.status.busy": "2023-02-23T02:46:37.463312Z",
     "iopub.status.idle": "2023-02-23T02:46:37.468423Z",
     "shell.execute_reply": "2023-02-23T02:46:37.467274Z"
    },
    "papermill": {
     "duration": 0.014782,
     "end_time": "2023-02-23T02:46:37.471074",
     "exception": false,
     "start_time": "2023-02-23T02:46:37.456292",
     "status": "completed"
    },
    "tags": []
   },
   "outputs": [],
   "source": [
    "from nltk.tag import pos_tag\n",
    "# pot_tags take a list of tokens\n",
    "from nltk.stem import WordNetLemmatizer\n",
    "lemmatizer=WordNetLemmatizer()"
   ]
  },
  {
   "cell_type": "code",
   "execution_count": 8,
   "id": "9227215d",
   "metadata": {
    "execution": {
     "iopub.execute_input": "2023-02-23T02:46:37.483775Z",
     "iopub.status.busy": "2023-02-23T02:46:37.483494Z",
     "iopub.status.idle": "2023-02-23T02:58:24.171073Z",
     "shell.execute_reply": "2023-02-23T02:58:24.170119Z"
    },
    "papermill": {
     "duration": 706.701815,
     "end_time": "2023-02-23T02:58:24.178690",
     "exception": false,
     "start_time": "2023-02-23T02:46:37.476875",
     "status": "completed"
    },
    "tags": []
   },
   "outputs": [
    {
     "data": {
      "text/plain": [
       "(['@rubytears', \"can't\", 'dm', 'you'], 0)"
      ]
     },
     "execution_count": 8,
     "metadata": {},
     "output_type": "execute_result"
    }
   ],
   "source": [
    "lemmatized_data=[]\n",
    "for text, label in data: \n",
    "    lemmatized_tokens=[]\n",
    "    for word, tag in pos_tag(text): \n",
    "        if tag.startswith('NN'): \n",
    "            pos='n'\n",
    "        elif tag.startswith('VB'): \n",
    "            pos='v'\n",
    "        else: \n",
    "            pos='a'\n",
    "        lemmatized_tokens.append(lemmatizer.lemmatize(word, pos))\n",
    "    lemmatized_data.append((lemmatized_tokens, label))\n",
    "lemmatized_data[0]"
   ]
  },
  {
   "cell_type": "code",
   "execution_count": 9,
   "id": "ecf30572",
   "metadata": {
    "execution": {
     "iopub.execute_input": "2023-02-23T02:58:24.191007Z",
     "iopub.status.busy": "2023-02-23T02:58:24.190303Z",
     "iopub.status.idle": "2023-02-23T02:58:24.205296Z",
     "shell.execute_reply": "2023-02-23T02:58:24.204456Z"
    },
    "papermill": {
     "duration": 0.023206,
     "end_time": "2023-02-23T02:58:24.207308",
     "exception": false,
     "start_time": "2023-02-23T02:58:24.184102",
     "status": "completed"
    },
    "tags": []
   },
   "outputs": [],
   "source": [
    "from nltk.corpus import stopwords\n",
    "stopwords_en=stopwords.words('english')"
   ]
  },
  {
   "cell_type": "code",
   "execution_count": 10,
   "id": "7a004fb4",
   "metadata": {
    "execution": {
     "iopub.execute_input": "2023-02-23T02:58:24.219727Z",
     "iopub.status.busy": "2023-02-23T02:58:24.219454Z",
     "iopub.status.idle": "2023-02-23T02:58:54.256150Z",
     "shell.execute_reply": "2023-02-23T02:58:54.255035Z"
    },
    "papermill": {
     "duration": 30.05057,
     "end_time": "2023-02-23T02:58:54.263657",
     "exception": false,
     "start_time": "2023-02-23T02:58:24.213087",
     "status": "completed"
    },
    "tags": []
   },
   "outputs": [
    {
     "data": {
      "text/plain": [
       "(['@rubytears', \"can't\", 'dm'], 0)"
      ]
     },
     "execution_count": 10,
     "metadata": {},
     "output_type": "execute_result"
    }
   ],
   "source": [
    "stopped_data=[]\n",
    "for text, label in lemmatized_data: \n",
    "    stopped_tokens=[]\n",
    "    for word in text: \n",
    "        if word not in stopwords_en: \n",
    "            stopped_tokens.append(word)\n",
    "    stopped_data.append((stopped_tokens, label))\n",
    "stopped_data[0]"
   ]
  },
  {
   "cell_type": "code",
   "execution_count": 11,
   "id": "86124077",
   "metadata": {
    "execution": {
     "iopub.execute_input": "2023-02-23T02:58:54.276131Z",
     "iopub.status.busy": "2023-02-23T02:58:54.275568Z",
     "iopub.status.idle": "2023-02-23T02:58:57.303018Z",
     "shell.execute_reply": "2023-02-23T02:58:57.302042Z"
    },
    "papermill": {
     "duration": 3.035948,
     "end_time": "2023-02-23T02:58:57.305130",
     "exception": false,
     "start_time": "2023-02-23T02:58:54.269182",
     "status": "completed"
    },
    "tags": []
   },
   "outputs": [
    {
     "data": {
      "text/plain": [
       "({'@rubytears': True, \"can't\": True, 'dm': True, 'you': True}, 0)"
      ]
     },
     "execution_count": 11,
     "metadata": {},
     "output_type": "execute_result"
    }
   ],
   "source": [
    "dict_data=[]\n",
    "# for text, label in stopped_data: \n",
    "for text, label in lemmatized_data: \n",
    "    dict_tokens=dict([word, True] for word in text)\n",
    "    dict_data.append((dict_tokens, label))\n",
    "dict_data[0]"
   ]
  },
  {
   "cell_type": "code",
   "execution_count": 12,
   "id": "ffd62c1b",
   "metadata": {
    "execution": {
     "iopub.execute_input": "2023-02-23T02:58:57.318058Z",
     "iopub.status.busy": "2023-02-23T02:58:57.317776Z",
     "iopub.status.idle": "2023-02-23T02:58:58.096251Z",
     "shell.execute_reply": "2023-02-23T02:58:58.095140Z"
    },
    "papermill": {
     "duration": 0.787648,
     "end_time": "2023-02-23T02:58:58.098839",
     "exception": false,
     "start_time": "2023-02-23T02:58:57.311191",
     "status": "completed"
    },
    "tags": []
   },
   "outputs": [],
   "source": [
    "import random\n",
    "random.Random().shuffle(dict_data)\n",
    "train_set=int(len(dict_data)*0.9)\n",
    "X_train=dict_data[:train_set]\n",
    "X_test=dict_data[train_set:]"
   ]
  },
  {
   "cell_type": "code",
   "execution_count": 13,
   "id": "963372af",
   "metadata": {
    "execution": {
     "iopub.execute_input": "2023-02-23T02:58:58.112243Z",
     "iopub.status.busy": "2023-02-23T02:58:58.111892Z",
     "iopub.status.idle": "2023-02-23T03:00:28.718352Z",
     "shell.execute_reply": "2023-02-23T03:00:28.716897Z"
    },
    "papermill": {
     "duration": 90.615641,
     "end_time": "2023-02-23T03:00:28.720497",
     "exception": false,
     "start_time": "2023-02-23T02:58:58.104856",
     "status": "completed"
    },
    "tags": []
   },
   "outputs": [
    {
     "name": "stdout",
     "output_type": "stream",
     "text": [
      "Train Data Accuracy: 0.8460986111111111\n",
      "Train Data Accuracy: 0.7659875\n",
      "Most Informative Features\n",
      "                  sadden = True                0 : 1      =     51.1 : 1.0\n",
      "               toothache = True                0 : 1      =     43.4 : 1.0\n",
      "                    sadd = True                0 : 1      =     39.7 : 1.0\n",
      "                  boohoo = True                0 : 1      =     35.8 : 1.0\n",
      "                  farrah = True                0 : 1      =     31.8 : 1.0\n",
      "               carradine = True                0 : 1      =     31.3 : 1.0\n",
      "                 uggghhh = True                0 : 1      =     30.4 : 1.0\n",
      "                 mcmahon = True                0 : 1      =     30.2 : 1.0\n",
      "                fuzzball = True                1 : 0      =     29.6 : 1.0\n",
      "                 unloved = True                0 : 1      =     29.0 : 1.0\n",
      "None\n"
     ]
    }
   ],
   "source": [
    "from nltk import classify\n",
    "from nltk import NaiveBayesClassifier\n",
    "clf=NaiveBayesClassifier.train(X_train)\n",
    "print(f'Train Data Accuracy: {classify.accuracy(clf, X_train)}')\n",
    "print(f'Train Data Accuracy: {classify.accuracy(clf, X_test)}')\n",
    "print(clf.show_most_informative_features(10))"
   ]
  },
  {
   "cell_type": "code",
   "execution_count": 14,
   "id": "d45223ed",
   "metadata": {
    "execution": {
     "iopub.execute_input": "2023-02-23T03:00:28.733377Z",
     "iopub.status.busy": "2023-02-23T03:00:28.733072Z",
     "iopub.status.idle": "2023-02-23T03:00:28.761479Z",
     "shell.execute_reply": "2023-02-23T03:00:28.760431Z"
    },
    "papermill": {
     "duration": 0.037013,
     "end_time": "2023-02-23T03:00:28.763497",
     "exception": false,
     "start_time": "2023-02-23T03:00:28.726484",
     "status": "completed"
    },
    "tags": []
   },
   "outputs": [],
   "source": [
    "# train_set=int(len(stopped_data)*0.9)\n",
    "# X_train=stopped_data[:train_set]\n",
    "# X_test=stopped_data[train_set:]\n",
    "train_set=int(len(lemmatized_data)*0.9)\n",
    "X_train=lemmatized_data[:train_set]\n",
    "X_test=lemmatized_data[train_set:]"
   ]
  },
  {
   "cell_type": "code",
   "execution_count": 15,
   "id": "8799016a",
   "metadata": {
    "execution": {
     "iopub.execute_input": "2023-02-23T03:00:28.777842Z",
     "iopub.status.busy": "2023-02-23T03:00:28.776128Z",
     "iopub.status.idle": "2023-02-23T03:00:49.792618Z",
     "shell.execute_reply": "2023-02-23T03:00:49.791479Z"
    },
    "papermill": {
     "duration": 21.025955,
     "end_time": "2023-02-23T03:00:49.795372",
     "exception": false,
     "start_time": "2023-02-23T03:00:28.769417",
     "status": "completed"
    },
    "tags": []
   },
   "outputs": [],
   "source": [
    "from keras.preprocessing.text import Tokenizer\n",
    "from keras_preprocessing.sequence import pad_sequences\n",
    "tokenizer=Tokenizer()\n",
    "tokenizer.fit_on_texts([text for text, label in X_train])\n",
    "word_index=tokenizer.word_index"
   ]
  },
  {
   "cell_type": "code",
   "execution_count": 16,
   "id": "0eb8304a",
   "metadata": {
    "execution": {
     "iopub.execute_input": "2023-02-23T03:00:49.808826Z",
     "iopub.status.busy": "2023-02-23T03:00:49.808186Z",
     "iopub.status.idle": "2023-02-23T03:00:49.813684Z",
     "shell.execute_reply": "2023-02-23T03:00:49.812736Z"
    },
    "papermill": {
     "duration": 0.015127,
     "end_time": "2023-02-23T03:00:49.816687",
     "exception": false,
     "start_time": "2023-02-23T03:00:49.801560",
     "status": "completed"
    },
    "tags": []
   },
   "outputs": [
    {
     "name": "stdout",
     "output_type": "stream",
     "text": [
      "Vocab Size: 407792\n"
     ]
    }
   ],
   "source": [
    "vocab_size=len(tokenizer.word_index)+1\n",
    "print(f'Vocab Size: {vocab_size}')"
   ]
  },
  {
   "cell_type": "code",
   "execution_count": 17,
   "id": "5663efbf",
   "metadata": {
    "execution": {
     "iopub.execute_input": "2023-02-23T03:00:49.830455Z",
     "iopub.status.busy": "2023-02-23T03:00:49.830179Z",
     "iopub.status.idle": "2023-02-23T03:01:07.371638Z",
     "shell.execute_reply": "2023-02-23T03:01:07.370587Z"
    },
    "papermill": {
     "duration": 17.551227,
     "end_time": "2023-02-23T03:01:07.374440",
     "exception": false,
     "start_time": "2023-02-23T03:00:49.823213",
     "status": "completed"
    },
    "tags": []
   },
   "outputs": [],
   "source": [
    "y_train=[label for text, label in X_train]\n",
    "y_test=[label for text, label in X_test]\n",
    "X_train=pad_sequences(tokenizer.texts_to_sequences([' '.join(text) for text, label in X_train]), maxlen=40)\n",
    "X_test=pad_sequences(tokenizer.texts_to_sequences([' '.join(text) for text, label in X_test]), maxlen=40)"
   ]
  },
  {
   "cell_type": "code",
   "execution_count": 18,
   "id": "76cee75e",
   "metadata": {
    "execution": {
     "iopub.execute_input": "2023-02-23T03:01:07.387740Z",
     "iopub.status.busy": "2023-02-23T03:01:07.387420Z",
     "iopub.status.idle": "2023-02-23T03:01:08.301228Z",
     "shell.execute_reply": "2023-02-23T03:01:08.300139Z"
    },
    "papermill": {
     "duration": 0.925997,
     "end_time": "2023-02-23T03:01:08.306655",
     "exception": false,
     "start_time": "2023-02-23T03:01:07.380658",
     "status": "completed"
    },
    "tags": []
   },
   "outputs": [],
   "source": [
    "from tensorflow.keras.utils import to_categorical\n",
    "y_train=to_categorical(y_train)\n",
    "y_test=to_categorical(y_test)"
   ]
  },
  {
   "cell_type": "code",
   "execution_count": 19,
   "id": "fd3be983",
   "metadata": {
    "execution": {
     "iopub.execute_input": "2023-02-23T03:01:08.328149Z",
     "iopub.status.busy": "2023-02-23T03:01:08.327607Z",
     "iopub.status.idle": "2023-02-23T03:01:08.333040Z",
     "shell.execute_reply": "2023-02-23T03:01:08.332147Z"
    },
    "papermill": {
     "duration": 0.021335,
     "end_time": "2023-02-23T03:01:08.337999",
     "exception": false,
     "start_time": "2023-02-23T03:01:08.316664",
     "status": "completed"
    },
    "tags": []
   },
   "outputs": [],
   "source": [
    "from keras.models import Sequential\n",
    "from keras import layers\n",
    "import time"
   ]
  },
  {
   "cell_type": "code",
   "execution_count": 20,
   "id": "5e39aa08",
   "metadata": {
    "execution": {
     "iopub.execute_input": "2023-02-23T03:01:08.358568Z",
     "iopub.status.busy": "2023-02-23T03:01:08.358078Z",
     "iopub.status.idle": "2023-02-23T03:09:38.731436Z",
     "shell.execute_reply": "2023-02-23T03:09:38.729238Z"
    },
    "papermill": {
     "duration": 510.778312,
     "end_time": "2023-02-23T03:09:39.125866",
     "exception": false,
     "start_time": "2023-02-23T03:01:08.347554",
     "status": "completed"
    },
    "tags": []
   },
   "outputs": [
    {
     "name": "stdout",
     "output_type": "stream",
     "text": [
      "Epoch 1/5\n",
      "2813/2813 [==============================] - 102s 33ms/step - loss: 0.4296 - accuracy: 0.8009 - val_loss: 0.4805 - val_accuracy: 0.7784\n",
      "Epoch 2/5\n",
      "2813/2813 [==============================] - 91s 33ms/step - loss: 0.3597 - accuracy: 0.8407 - val_loss: 0.4652 - val_accuracy: 0.7779\n",
      "Epoch 3/5\n",
      "2813/2813 [==============================] - 91s 33ms/step - loss: 0.3125 - accuracy: 0.8642 - val_loss: 0.5714 - val_accuracy: 0.7476\n",
      "Epoch 4/5\n",
      "2813/2813 [==============================] - 92s 33ms/step - loss: 0.2684 - accuracy: 0.8849 - val_loss: 0.5329 - val_accuracy: 0.7796\n",
      "Epoch 5/5\n",
      "2813/2813 [==============================] - 92s 33ms/step - loss: 0.2287 - accuracy: 0.9028 - val_loss: 0.5987 - val_accuracy: 0.7713\n",
      "Time to train: 510.36355805397034\n"
     ]
    }
   ],
   "source": [
    "current_time=time.time()\n",
    "model=Sequential()\n",
    "model.add(layers.Embedding(input_dim=vocab_size,output_dim=100,\\\n",
    "#                       input_length=30))\n",
    "                      input_length=40))\n",
    "model.add(layers.Bidirectional(layers.LSTM(128)))\n",
    "model.add(layers.Dense(2,activation='softmax'))\n",
    "model.compile(optimizer='adam',loss='categorical_crossentropy',\\\n",
    "              metrics=['accuracy'])\n",
    "\n",
    "model.fit(X_train,y_train,batch_size=256,epochs=5,validation_data=(X_test,y_test))\n",
    "print(f'Time to train: {time.time()-current_time}')"
   ]
  }
 ],
 "metadata": {
  "kernelspec": {
   "display_name": "Python 3",
   "language": "python",
   "name": "python3"
  },
  "language_info": {
   "codemirror_mode": {
    "name": "ipython",
    "version": 3
   },
   "file_extension": ".py",
   "mimetype": "text/x-python",
   "name": "python",
   "nbconvert_exporter": "python",
   "pygments_lexer": "ipython3",
   "version": "3.7.12"
  },
  "papermill": {
   "default_parameters": {},
   "duration": 1482.582239,
   "end_time": "2023-02-23T03:09:42.688620",
   "environment_variables": {},
   "exception": null,
   "input_path": "__notebook__.ipynb",
   "output_path": "__notebook__.ipynb",
   "parameters": {},
   "start_time": "2023-02-23T02:45:00.106381",
   "version": "2.3.4"
  }
 },
 "nbformat": 4,
 "nbformat_minor": 5
}
